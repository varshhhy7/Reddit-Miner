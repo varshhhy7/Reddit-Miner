{
 "cells": [
  {
   "cell_type": "code",
   "execution_count": null,
   "id": "0",
   "metadata": {},
   "outputs": [],
   "source": [
    "from dotenv import load_dotenv\n",
    "from pydantic import BaseModel\n",
    "load_dotenv()"
   ]
  },
  {
   "cell_type": "code",
   "execution_count": null,
   "id": "1",
   "metadata": {},
   "outputs": [],
   "source": [
    "import getpass\n",
    "import os\n",
    "\n",
    "if not os.environ.get(\"GROQ_API_KEY\"):\n",
    "  os.environ[\"GROQ_API_KEY\"] = getpass.getpass(\"Enter API key for Groq: \")\n",
    "\n"
   ]
  },
  {
   "cell_type": "code",
   "execution_count": null,
   "id": "2",
   "metadata": {},
   "outputs": [],
   "source": [
    "from langchain.chat_models import init_chat_model\n",
    "\n",
    "model = init_chat_model(\"llama-3.3-70b-versatile\", model_provider=\"groq\")\n"
   ]
  },
  {
   "cell_type": "code",
   "execution_count": null,
   "id": "3",
   "metadata": {},
   "outputs": [],
   "source": [
    "from pydantic import BaseModel,Field"
   ]
  },
  {
   "cell_type": "code",
   "execution_count": null,
   "id": "4",
   "metadata": {},
   "outputs": [],
   "source": [
    "from pydantic import BaseModel, Field\n",
    "from typing import List\n",
    "\n",
    "class LanguageRanking(BaseModel):\n",
    "    rank: int = Field(description=\"The ranking position of the language\")\n",
    "    name: str = Field(description=\"Programming language name\")\n",
    "    usage_percentage: float = Field(description=\"Approximate usage percentage as of 2025\")\n",
    "    year_created: int = Field(description=\"The year the language was first created\")\n",
    "    creator: str = Field(description=\"The creator or organization behind the language\")\n",
    "\n",
    "class ProgrammingLanguageRank(BaseModel):\n",
    "    languages: List[LanguageRanking] = Field(description=\"Top programming languages with rankings, usage %, and metadata\")\n"
   ]
  },
  {
   "cell_type": "code",
   "execution_count": null,
   "id": "5",
   "metadata": {},
   "outputs": [],
   "source": [
    "llm = model.with_structured_output(ProgrammingLanguageRank)\n",
    "\n",
    "result = llm.invoke(\n",
    "    \"Give me the top 10 programming languages by popularity as of 2025, with rank, usage percentage, year created, and creator.\"\n",
    ")\n",
    "\n",
    "for lang in result.languages:\n",
    "    print(lang.rank, lang.name, lang.year_created, lang.usage_percentage, lang.creator)\n"
   ]
  },
  {
   "cell_type": "code",
   "execution_count": null,
   "id": "6",
   "metadata": {},
   "outputs": [],
   "source": [
    "for lang in result.languages:\n",
    "    print(lang.rank, lang.name, lang.year_created, lang.usage_percentage, lang.creator)\n"
   ]
  },
  {
   "cell_type": "code",
   "execution_count": null,
   "id": "7",
   "metadata": {},
   "outputs": [],
   "source": []
  },
  {
   "cell_type": "code",
   "execution_count": null,
   "id": "8",
   "metadata": {},
   "outputs": [],
   "source": []
  }
 ],
 "metadata": {
  "kernelspec": {
   "display_name": "Python 3 (ipykernel)",
   "language": "python",
   "name": "python3"
  },
  "language_info": {
   "codemirror_mode": {
    "name": "ipython",
    "version": 3
   },
   "file_extension": ".py",
   "mimetype": "text/x-python",
   "name": "python",
   "nbconvert_exporter": "python",
   "pygments_lexer": "ipython3",
   "version": "3.12.4"
  }
 },
 "nbformat": 4,
 "nbformat_minor": 5
}
